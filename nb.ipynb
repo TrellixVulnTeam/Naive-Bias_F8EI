{
 "cells": [
  {
   "cell_type": "code",
   "execution_count": 115,
   "metadata": {},
   "outputs": [],
   "source": [
    "import sklearn.datasets as skd\n",
    "from os import listdir\n",
    "from os.path import isfile, join\n",
    "from sklearn.model_selection import train_test_split\n",
    "import string\n"
   ]
  },
  {
   "cell_type": "code",
   "execution_count": 81,
   "metadata": {},
   "outputs": [
    {
     "name": "stdout",
     "output_type": "stream",
     "text": [
      "19997\n"
     ]
    }
   ],
   "source": [
    "####### PATHS #######\n",
    "\n",
    "news = './20_newsgroups'\n",
    "# listdir gives the names of all elements in the path specified. if not condition specified so that hidden files are not counted\n",
    "\n",
    "#paths to categories\n",
    "categories = [f for f in listdir(news) if not f.startswith('.')]\n",
    "category_paths = [join(news,category) for category in categories]\n",
    "\n",
    "#Paths to articles\n",
    "article_name = [listdir(category_path) for category_path in category_paths] \n",
    "article_names = sum(article_name,[]) \n",
    "for cp in category_paths:\n",
    "    article_paths = [join(cp, an) for an in article_names]\n",
    "print(len(article_paths))"
   ]
  },
  {
   "cell_type": "code",
   "execution_count": 113,
   "metadata": {},
   "outputs": [],
   "source": [
    "####### LABELS #######\n",
    "\n",
    "labels = []\n",
    "for c in category_paths:\n",
    "    l = len(listdir(c))\n",
    "    for i in range(l):\n",
    "        labels.append(c)\n"
   ]
  },
  {
   "cell_type": "code",
   "execution_count": 148,
   "metadata": {},
   "outputs": [
    {
     "name": "stdout",
     "output_type": "stream",
     "text": [
      "./20_newsgroups/talk.politics.mideast/76421\n",
      "./20_newsgroups/talk.religion.misc\n"
     ]
    }
   ],
   "source": [
    "####### DATA #######\n",
    "\n",
    "data = []\n",
    "for ll in range(len(category_paths)):\n",
    "    for aa in article_name[ll]:\n",
    "        data.append(join(category_paths[ll],aa))\n",
    "print(data[5])\n"
   ]
  },
  {
   "cell_type": "code",
   "execution_count": 149,
   "metadata": {},
   "outputs": [
    {
     "name": "stdout",
     "output_type": "stream",
     "text": [
      "9998\n",
      "9998\n",
      "9999\n",
      "9999\n",
      "./20_newsgroups/talk.politics.mideast/76529\n",
      "./20_newsgroups/talk.politics.mideast\n"
     ]
    }
   ],
   "source": [
    "####### TRAIN and TEST #######\n",
    "\n",
    "train, test, y_train, y_test = train_test_split(data, labels, random_state = 0, test_size = 0.5)\n",
    "\n",
    "print(len(train))\n",
    "print(len(y_train))\n",
    "\n",
    "print (len(test))\n",
    "print(len(y_test))\n",
    "\n",
    "print(train[5])\n",
    "print(y_train[5])"
   ]
  },
  {
   "cell_type": "code",
   "execution_count": 150,
   "metadata": {},
   "outputs": [
    {
     "name": "stdout",
     "output_type": "stream",
     "text": [
      "['Xref: cantaloupe.srv.cs.cmu.edu talk.politics.mideast:76529 soc.culture.iranian:23081\\n', 'Newsgroups: talk.politics.mideast,soc.culture.iranian\\n', 'Path: cantaloupe.srv.cs.cmu.edu!magnesium.club.cc.cmu.edu!news.sei.cmu.edu!cis.ohio-state.edu!pacific.mps.ohio-state.edu!linac!unixhub!headwall.Stanford.EDU!EE.Stanford.EDU!isl!mack\\n', 'From: mack@isl.Stanford.EDU (mack)\\n', 'Subject: Re: News briefs from KH # 1026\\n', 'Message-ID: <1993Apr20.213154.17477@EE.Stanford.EDU>\\n', 'Sender: usenet@EE.Stanford.EDU (Usenet)\\n', 'Organization: Stanford University\\n', 'References: <sehari.735313083@vincent1.iastate.edu>\\n', 'Date: Tue, 20 Apr 93 21:31:54 GMT\\n', 'Lines: 19\\n', '\\n', 'farzin@apollo3.ntt.jp (Farzin Mokhtarian) writes:\\n', '\\n', '>From:  Kayhan Havai # 1026\\n', '>--------------------------\\n', '>                         \\n', '>    [...]\\n', '>\\n', '>o Dr. Malekzadeh, the minister of health mentioned that\\n', '>  the population growth rate in Iran at the end of 1371\\n', '>  went below 2.7\\n', '\\n', 'I know nothing about statistics, but what significance does the\\n', 'relatively small population growth rate have where the sampling period\\n', 'is so small (at the end of 1371)? Is it adequete to suggest a trend or\\n', 'is it just noise?\\n', '\\n', '> - Farzin Mokhtarian\\n', '\\n', '    --mack\\n']\n"
     ]
    }
   ],
   "source": [
    "f = open(train[5], 'r').readlines()\n",
    "print(f)"
   ]
  },
  {
   "cell_type": "code",
   "execution_count": null,
   "metadata": {},
   "outputs": [],
   "source": [
    "class NBClassifier():\n",
    "    "
   ]
  }
 ],
 "metadata": {
  "kernelspec": {
   "display_name": "Python 3",
   "language": "python",
   "name": "python3"
  },
  "language_info": {
   "codemirror_mode": {
    "name": "ipython",
    "version": 3
   },
   "file_extension": ".py",
   "mimetype": "text/x-python",
   "name": "python",
   "nbconvert_exporter": "python",
   "pygments_lexer": "ipython3",
   "version": "3.6.8"
  }
 },
 "nbformat": 4,
 "nbformat_minor": 2
}
